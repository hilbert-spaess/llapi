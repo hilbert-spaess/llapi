{
 "cells": [
  {
   "cell_type": "code",
   "execution_count": 10,
   "metadata": {},
   "outputs": [
    {
     "name": "stdout",
     "output_type": "stream",
     "text": [
      "['Graduate Trader at Mako', 'https://www.mako.com/opportunities?gh_jid=4824398002', 'https://assets.website-files.com/5e4aa1a9585b23ac3d3fbedd/5e9da6baa92e924e078af672_Mako-Logo-Colour-2020.svg', 'Some programming experience.', '18-month graduate trader program is an immersive and structured programme designed to give our graduates the opportunity to develop in-depth knowledge and experience of the industry and options markets.']\n"
     ]
    }
   ],
   "source": [
    "with open(\".\" + \"/jobs/stem_jobs.txt\", 'r') as jobfile:\n",
    "\n",
    "    joblines = jobfile.read()\n",
    "    job = joblines.split(\"##\")[1]\n",
    "\n",
    "job = [x.strip() for x in job.split(\"\\n\") if x.strip()]\n",
    "\n",
    "print(job)"
   ]
  },
  {
   "cell_type": "code",
   "execution_count": null,
   "metadata": {},
   "outputs": [],
   "source": []
  }
 ],
 "metadata": {
  "kernelspec": {
   "display_name": "Python 3",
   "language": "python",
   "name": "python3"
  },
  "language_info": {
   "codemirror_mode": {
    "name": "ipython",
    "version": 3
   },
   "file_extension": ".py",
   "mimetype": "text/x-python",
   "name": "python",
   "nbconvert_exporter": "python",
   "pygments_lexer": "ipython3",
   "version": "3.8.5"
  }
 },
 "nbformat": 4,
 "nbformat_minor": 4
}
