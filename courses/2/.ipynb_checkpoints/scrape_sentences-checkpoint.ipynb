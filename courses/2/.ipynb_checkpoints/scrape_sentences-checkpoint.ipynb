{
 "cells": [
  {
   "cell_type": "code",
   "execution_count": 1,
   "metadata": {},
   "outputs": [],
   "source": [
    "with open(\"sentence_raw\", 'r') as openfile:\n",
    "    lines = openfile.readlines()"
   ]
  },
  {
   "cell_type": "code",
   "execution_count": 2,
   "metadata": {},
   "outputs": [],
   "source": [
    "lines = [x.strip() for x in lines if x.strip()]"
   ]
  },
  {
   "cell_type": "code",
   "execution_count": 3,
   "metadata": {},
   "outputs": [],
   "source": [
    "lines = [lines[i] for i in range(1, len(lines)) if lines[i-1] == \"Put \\\"occlude\\\" in the following sentence:\"]"
   ]
  },
  {
   "cell_type": "code",
   "execution_count": 5,
   "metadata": {},
   "outputs": [],
   "source": [
    "lines = [x.split(\".\")[0] + \".\" for x in lines]"
   ]
  },
  {
   "cell_type": "code",
   "execution_count": 7,
   "metadata": {},
   "outputs": [],
   "source": [
    "lines = [x for x in lines if x[-17:]!=\"uncharacteristic.\"]"
   ]
  },
  {
   "cell_type": "code",
   "execution_count": 11,
   "metadata": {},
   "outputs": [],
   "source": [
    "lines = [x for x in lines if \"_\" in x or \"occlude\" in x]"
   ]
  },
  {
   "cell_type": "code",
   "execution_count": 12,
   "metadata": {},
   "outputs": [
    {
     "data": {
      "text/plain": [
       "['The sudden storm ________ the mountain pass, trapping the pair in a remote cabin.',\n",
       " \"The aged historian's eyesight slowly started to ______ even though she was wearing glasses.\",\n",
       " 'The solid metal door appeared to be tightly _______ by the old dusty bookshelves that filled the space where the wall and floor met.',\n",
       " 'The small group of protestors outside the military recruiting center were unhappy about the draft, but they all decided to stay outside the ________ gate.',\n",
       " 'The magician claimed to make the Statue of Liberty ________, although she remained visible to shipping in New York Harbour.',\n",
       " 'Barry was beginning to regret his hasty choice of major; the incessant flow of new information was confusing and ________ .',\n",
       " 'The insurance company decided to _______ any investigation into the house fire for fear of uncovering a coverup.',\n",
       " 'Despite its vast _______, the rocks screen the water from the air and therefore never freeze.',\n",
       " 'Losing your hand will generally cause you to experience a loss of ________ and dexterity.',\n",
       " \"As she clutched at her heart, the doctor wondered if the elderly woman's arteries were partially ________ by atheroma.\",\n",
       " 'The _______ by the Oligarchy was so effective that most people accepted its version of events.',\n",
       " \"The legislature's action left only one thing left to ________ the arrest warrant.\",\n",
       " 'was a _______ nature that hid his thoughts and feelings from others.',\n",
       " \"The diver's body was almost ________ by the great whale's enormous tail fin.\",\n",
       " \"The ________ movement of the cabin cruiser's door had an immediate effect on the light filtering into the cabin.\",\n",
       " \"Hidden from the tourists' view, an immense willow tree _______ the stone bridge over an unseen stream.\",\n",
       " 'The thick clouds ________ him from speaking to the people below.',\n",
       " 'He ran at full speed to the door and managed to ________it before Weaver closed it completely.',\n",
       " 'With a revolving door of elected officials and a continuously expanding City bureaucracy, it is often difficult for ________ issues to be addressed in a permanent way.',\n",
       " 'ELECTRIC VELVET: THE STORY OF JIMI HENDRIX, by Christopher Sandford On the whole, he is a rather _________ figure in comparison to his wild and extroverted Beatles contemporaries.',\n",
       " 'The senator has amassed a mountainous pile of paper over the course of his _______.',\n",
       " \"More determined than ever, D'Annunzio continued his ________ flight with a half-broken airplane.\",\n",
       " 'The many visitors to the chambers were kept outside in the corridor, as Justice ________ the door from the inside.',\n",
       " 'He angrily demanded that the secret windowed meeting be ________, so he could at least see what was really going on.',\n",
       " \"The baseball tossed to the pitcher by the shortstop was obstructed from the catcher's vision by the batter and _________ a run.\",\n",
       " 'The sun warmed his arm through the opened window, converging in a dark spot on the wall opposite him, until sleep _______ his blood into honey.',\n",
       " 'The late afternoon winter sun was blocked from the stadium by a small plane which had inadvertantly ________ into the field of play.',\n",
       " 'As I watched each bone in my hand crack, I could feel my life force being ________ from my body.',\n",
       " \"The surgeon left the knife in the patient's chest during surgery; it was a professional _______ accident.\",\n",
       " 'Even without the use of special effects, some of the scenes in the horror movies are almost too dreadful to watch; for instance, in one memorable scene from ________, the actress struggles to free herself from being chained to a bed as she.',\n",
       " 'After throwing an elbow in a basketball game against the Utah Jazz\\'s John Stockton, the Celtic\\'s Larry Bird had his _______ listed as \"doubtful,\" although he later returned to the game.',\n",
       " 'The ________ of the road raised doubts about the ability of authorities to establish the cause of the accident.',\n",
       " 'He carefully chose his college class schedule to avoid ________ other students in his major.',\n",
       " 'The invading forces left nothing to _______ the ruins of what used to be Carcosa City.',\n",
       " 'The surgeon was later found guilty of ________ much-needed blood during the operation.',\n",
       " 'The combination of fire trucks, police cars, and news vans created a sort of traffic ________ that made it impossible for her to get out of the parking lot.',\n",
       " 'The ________ light of the setting sun was blocked by the large cloud above my head.',\n",
       " \"The court was so overwhelmed by the defense counsel's skill that they ignored his ________ of constitutional law.\",\n",
       " 'The jury foreman read the verdict ________ to the defendant.',\n",
       " 'The dense smoke filling the room was caused by the combustion of the draperies; as they ________ the fire was unable to breath and so perished.',\n",
       " \"The flood waters ________ the town's access to the outside world.\",\n",
       " 'The gaggle of media outside the trial hopes the defendants will respond to the charges, but _______ them on a rainy day in November 1982.',\n",
       " 'In the hot summer of 2018, a sudden heat wave in New York City _______ the air.',\n",
       " 'While hiking in Glacier National Park, we had the distinct misfortune of having the _______ of a mountain pass close due to a rockslide.',\n",
       " 'Nursing homes can be prevented from refusing to accept Medicare patients if they display behavior that is ________ to the public health.',\n",
       " 'The supervisor\\'s inept attempt at \"downsizing\" the staff had the unintended effect of ________ several of the firm\\'s most important projects.',\n",
       " \"The pathologist's view that the wounds could have been caused by an animal bite was refuted when the defendant pulled down his shirt, revealing a fresh wound across his ________.\",\n",
       " 'The prowler watched from the shadows as the senator tossed and turned in his bed, a result of the _______ sleeping pills he had taken.',\n",
       " 'The newly svelte fashion model had unwanted weight removed from her chest, which made her ready to try the runways again in a display of newfound ________.',\n",
       " 'The thick clouds ________ the view of the mountain range beyond.',\n",
       " 'The act of setting a bone or dislocation is often followed by an involuntary ________ by the injured party.',\n",
       " 'After the accident, debris was scattered over a wide area as a result of ________.',\n",
       " 'The upcoming lecture attempts to ________ the accusations made against the museum in recent days.',\n",
       " 'The ________ crowd totally surrounded the candidate, making it impossible for anyone to reach him.',\n",
       " 'The droning lecture on physics grew more and more ________ until I could barely concentrate.',\n",
       " 'After an accident on the job, carpenter Farhan was ________ from his duties due to the loss of his dominant hand.',\n",
       " 'The assassination often is ________ by conspiracy theorists, who claim the President was targeted by the CIA.',\n",
       " 'The physician is likely to warn her patient that, without immediate surgery, walking could ________ the clogged artery in his leg.',\n",
       " 'The paneled walls closed in on him, _________ his view of the outside world.',\n",
       " 'The ________ of the mountain pass endangered the regiment during the rainy season.',\n",
       " 'After the basketball player retired from the NBA, his ongoing gambling debts meant he needed to earn money in unusual ways, such as ________ the sightlines of other gamblers at the casino where he worked.',\n",
       " \"As the cave's interior slowly _______, the group quickly found themselves unable to proceed.\",\n",
       " \"Although Ernest did not share his world-famous brother Joe's talent for writing, he made a name for himself in Hollywood by ________ out all the real talent.\",\n",
       " 'Exhausted by the two-day ordeal, Tom felt a great sense of ________ as he boarded the train to Washington, D.',\n",
       " 'The thick smoke from the explosion ________ the exit doors and unfortunately resulted in several deaths.',\n",
       " \"Last Thursday, the paramedic was stumped by the __________ nature of the child's injury.\",\n",
       " 'Her refusal to testify could ________ justice; she must be made to speak.',\n",
       " 'The wedding guests were surprised to see the bride arrive by herself, because they were certain that they had seen the groom walk ________ in.',\n",
       " 'The explorers would have had an easier time of it had the mountain range not ________ any attempts to reach the northern pass.',\n",
       " 'The damaged blood vessel was able to be cleared using the new treatment, which involved _______ the blockage.',\n",
       " 'The engine sputters to a stop as the fuel tank _______ with sludge.',\n",
       " 'The doctors had given him only a few months to live, but he defied their _________ by living many years beyond that prognosis.',\n",
       " 'If he were alive today, William Shakespeare would undoubtedly take a dim view of the way in which his work has been _____ by incompetent directors.',\n",
       " 'After hours of debate, the argument finally _______ when someone suggested putting a few drops of hydrochloric acid on your finger to test the pH balance.',\n",
       " \"Although the patient's kidney had been successfully transplanted into his sister, it soon _______ shut down due to lack of blood flow.\",\n",
       " \"The old woman's cataracts had now become severe enough to ________ whatever vision she had left.\",\n",
       " 'The Secret Service refused to disclose the exact details of the assassination plot, claiming that if it were made ________, other terrorists might plot further attacks.',\n",
       " \"The thick curtains _______ the flashes from the cameras as Hollywood's A-list gathers for the Oscars.\",\n",
       " 'The receding glacier left a landscape of ________ mountain passes behind.',\n",
       " \"The boulder's ________ by the falling wall completely blocked his escape.\",\n",
       " \"Even an amateur eye could easily notice the dagger's _______ of any number of historically important cityscapes.\",\n",
       " \"The victorious army's surrenders blockaded the city from outside help, effectively _______ it.\",\n",
       " 'The diver was so badly ________ in the wreckage that he could not be saved.',\n",
       " 'Nicknamed \"The Master of Disaster,\" __________ was responsible for worsening the effects of natural disasters such as floods and tidal waves.',\n",
       " \"Although the patient survived the procedure, it could be argued that the surgeon's haste ________ his medical career.\",\n",
       " 'After medical doctors failed to locate foreign material in my eye, they decided to cut my eyelid a bit more to ________ the pine needle.',\n",
       " 'The ________ wound slowly healed itself over several months without the aid of medical intervention.',\n",
       " \"The surgeon's constant pacing greatly _______ his ability to perform the delicate procedure.\",\n",
       " 'The constant dripping of the stalactite prevented the explorer from hearing the chatter of the tribe on the other side of the cavern, leading to their ________.',\n",
       " 'When a gatekeeper shut the door, it was almost as if he sat on the opposite side of a large wall separating himself from the ________ media frenzy.',\n",
       " \"Given the number of children still at the school during the accident, it is surprising that only two were injured when the gymnasium's ________ roof collapsed.\",\n",
       " \"The doctor's prediction was gloomy, but he tried to end on an ________, saying that the patient's fighting spirit might pull him through.\",\n",
       " 'The Senate overwhelmingly passed the controversial bill, but its ________ nature is expected to cause problems in the House.',\n",
       " \"The recent decision by the country's government will _______, as many fear it will engender a new wave of civil strife.\",\n",
       " 'The closed ________ quadrant of the circle is impossible to access.',\n",
       " \"The busy doctor nearly finished his ________ of the patient's medical file when the nurse called him back to the front desk.\",\n",
       " 'Despite the sudden sharp pain, Karima continued to try to smash her _______ finger in the car door.',\n",
       " \"The athlete's eyes were heavily ________ by the swelling, so we all feared the worst when he was transported to the nearest hospital.\",\n",
       " 'The wedding couple chose to have the church ceremony before the less traditional ________ event so that they could show their commitment to each other in front of their friends and family.',\n",
       " 'If the stock market were to _______, it would prove a black Friday indeed.',\n",
       " 'The blocked artery was a major medical ________, but, fortunately, the patient elected to have a timely surgery.',\n",
       " 'A clever lawyer might be able to _______ any sort of connection between the two events.',\n",
       " \"The wailing infant's cries alone were enough to _______ the ears of his family.\",\n",
       " 'The _______ of mountain roads left the sun overcast all day long.',\n",
       " \"The swollen Mississippi River directly _______ the campus, making it an oasis of calm from the rest of New Orleans' urban jungle.\",\n",
       " 'The small-town defendant was shocked by the _______ nature of the allegations against him.',\n",
       " 'His injury permanently ________ the flow of blood to his brain, leading to severe cognitive dissonance and paranoia.',\n",
       " \"The winemaker's face was already beginning to ________ after being stuck in an exploding barrel of red wine.\",\n",
       " 'The aggressive growth of the saguaro cactus is normally ________ by a long drought or frost.']"
      ]
     },
     "execution_count": 12,
     "metadata": {},
     "output_type": "execute_result"
    }
   ],
   "source": [
    "lines"
   ]
  },
  {
   "cell_type": "code",
   "execution_count": 13,
   "metadata": {},
   "outputs": [],
   "source": [
    "with open(\"sentences.txt\", 'a') as sentencefile:\n",
    "    for line in lines:\n",
    "        sentencefile.write(line + \"\\n\")"
   ]
  },
  {
   "cell_type": "code",
   "execution_count": 14,
   "metadata": {},
   "outputs": [
    {
     "data": {
      "text/plain": [
       "True"
      ]
     },
     "execution_count": 14,
     "metadata": {},
     "output_type": "execute_result"
    }
   ],
   "source": [
    "\"occlude\" in \"it was occluded\""
   ]
  },
  {
   "cell_type": "code",
   "execution_count": 16,
   "metadata": {},
   "outputs": [],
   "source": [
    "def process_sentences(word):\n",
    "    \n",
    "    with open(\"sentence_raw\", 'r') as openfile:\n",
    "        lines = openfile.readlines()\n",
    "    \n",
    "    lines = [x.strip() for x in lines if x.strip()]\n",
    "    \n",
    "    lines = [lines[i] for i in range(1, len(lines)) if lines[i-1] == \"Put \\\"\"+word+\"\\\" in the following sentence:\"]\n",
    "    \n",
    "    lines = [x.split(\".\")[0] + \".\" for x in lines]\n",
    "    \n",
    "    lines = [x for x in lines if x[-17:]!=\"uncharacteristic.\"]\n",
    "    \n",
    "    lines = [x for x in lines if \"_\" in x or word in x]\n",
    "    \n",
    "    print(lines)"
   ]
  },
  {
   "cell_type": "code",
   "execution_count": 17,
   "metadata": {},
   "outputs": [
    {
     "name": "stdout",
     "output_type": "stream",
     "text": [
      "['The sudden storm ________ the mountain pass, trapping the pair in a remote cabin.', \"The aged historian's eyesight slowly started to ______ even though she was wearing glasses.\", 'The solid metal door appeared to be tightly _______ by the old dusty bookshelves that filled the space where the wall and floor met.', 'The small group of protestors outside the military recruiting center were unhappy about the draft, but they all decided to stay outside the ________ gate.', 'The magician claimed to make the Statue of Liberty ________, although she remained visible to shipping in New York Harbour.', 'Barry was beginning to regret his hasty choice of major; the incessant flow of new information was confusing and ________ .', 'The insurance company decided to _______ any investigation into the house fire for fear of uncovering a coverup.', 'Despite its vast _______, the rocks screen the water from the air and therefore never freeze.', 'Losing your hand will generally cause you to experience a loss of ________ and dexterity.', \"As she clutched at her heart, the doctor wondered if the elderly woman's arteries were partially ________ by atheroma.\", 'The _______ by the Oligarchy was so effective that most people accepted its version of events.', \"The legislature's action left only one thing left to ________ the arrest warrant.\", 'was a _______ nature that hid his thoughts and feelings from others.', \"The diver's body was almost ________ by the great whale's enormous tail fin.\", \"The ________ movement of the cabin cruiser's door had an immediate effect on the light filtering into the cabin.\", \"Hidden from the tourists' view, an immense willow tree _______ the stone bridge over an unseen stream.\", 'The thick clouds ________ him from speaking to the people below.', 'He ran at full speed to the door and managed to ________it before Weaver closed it completely.', 'With a revolving door of elected officials and a continuously expanding City bureaucracy, it is often difficult for ________ issues to be addressed in a permanent way.', 'ELECTRIC VELVET: THE STORY OF JIMI HENDRIX, by Christopher Sandford On the whole, he is a rather _________ figure in comparison to his wild and extroverted Beatles contemporaries.', 'The senator has amassed a mountainous pile of paper over the course of his _______.', \"More determined than ever, D'Annunzio continued his ________ flight with a half-broken airplane.\", 'The many visitors to the chambers were kept outside in the corridor, as Justice ________ the door from the inside.', 'He angrily demanded that the secret windowed meeting be ________, so he could at least see what was really going on.', \"The baseball tossed to the pitcher by the shortstop was obstructed from the catcher's vision by the batter and _________ a run.\", 'The sun warmed his arm through the opened window, converging in a dark spot on the wall opposite him, until sleep _______ his blood into honey.', 'The late afternoon winter sun was blocked from the stadium by a small plane which had inadvertantly ________ into the field of play.', 'As I watched each bone in my hand crack, I could feel my life force being ________ from my body.', \"The surgeon left the knife in the patient's chest during surgery; it was a professional _______ accident.\", 'Even without the use of special effects, some of the scenes in the horror movies are almost too dreadful to watch; for instance, in one memorable scene from ________, the actress struggles to free herself from being chained to a bed as she.', 'After throwing an elbow in a basketball game against the Utah Jazz\\'s John Stockton, the Celtic\\'s Larry Bird had his _______ listed as \"doubtful,\" although he later returned to the game.', 'The ________ of the road raised doubts about the ability of authorities to establish the cause of the accident.', 'He carefully chose his college class schedule to avoid ________ other students in his major.', 'The invading forces left nothing to _______ the ruins of what used to be Carcosa City.', 'The surgeon was later found guilty of ________ much-needed blood during the operation.', 'The combination of fire trucks, police cars, and news vans created a sort of traffic ________ that made it impossible for her to get out of the parking lot.', 'The ________ light of the setting sun was blocked by the large cloud above my head.', \"The court was so overwhelmed by the defense counsel's skill that they ignored his ________ of constitutional law.\", 'The jury foreman read the verdict ________ to the defendant.', 'The dense smoke filling the room was caused by the combustion of the draperies; as they ________ the fire was unable to breath and so perished.', \"The flood waters ________ the town's access to the outside world.\", 'The gaggle of media outside the trial hopes the defendants will respond to the charges, but _______ them on a rainy day in November 1982.', 'In the hot summer of 2018, a sudden heat wave in New York City _______ the air.', 'While hiking in Glacier National Park, we had the distinct misfortune of having the _______ of a mountain pass close due to a rockslide.', 'Nursing homes can be prevented from refusing to accept Medicare patients if they display behavior that is ________ to the public health.', 'The supervisor\\'s inept attempt at \"downsizing\" the staff had the unintended effect of ________ several of the firm\\'s most important projects.', \"The pathologist's view that the wounds could have been caused by an animal bite was refuted when the defendant pulled down his shirt, revealing a fresh wound across his ________.\", 'The prowler watched from the shadows as the senator tossed and turned in his bed, a result of the _______ sleeping pills he had taken.', 'The newly svelte fashion model had unwanted weight removed from her chest, which made her ready to try the runways again in a display of newfound ________.', 'The thick clouds ________ the view of the mountain range beyond.', 'The act of setting a bone or dislocation is often followed by an involuntary ________ by the injured party.', 'After the accident, debris was scattered over a wide area as a result of ________.', 'The upcoming lecture attempts to ________ the accusations made against the museum in recent days.', 'The ________ crowd totally surrounded the candidate, making it impossible for anyone to reach him.', 'The droning lecture on physics grew more and more ________ until I could barely concentrate.', 'After an accident on the job, carpenter Farhan was ________ from his duties due to the loss of his dominant hand.', 'The assassination often is ________ by conspiracy theorists, who claim the President was targeted by the CIA.', 'The physician is likely to warn her patient that, without immediate surgery, walking could ________ the clogged artery in his leg.', 'The paneled walls closed in on him, _________ his view of the outside world.', 'The ________ of the mountain pass endangered the regiment during the rainy season.', 'After the basketball player retired from the NBA, his ongoing gambling debts meant he needed to earn money in unusual ways, such as ________ the sightlines of other gamblers at the casino where he worked.', \"As the cave's interior slowly _______, the group quickly found themselves unable to proceed.\", \"Although Ernest did not share his world-famous brother Joe's talent for writing, he made a name for himself in Hollywood by ________ out all the real talent.\", 'Exhausted by the two-day ordeal, Tom felt a great sense of ________ as he boarded the train to Washington, D.', 'The thick smoke from the explosion ________ the exit doors and unfortunately resulted in several deaths.', \"Last Thursday, the paramedic was stumped by the __________ nature of the child's injury.\", 'Her refusal to testify could ________ justice; she must be made to speak.', 'The wedding guests were surprised to see the bride arrive by herself, because they were certain that they had seen the groom walk ________ in.', 'The explorers would have had an easier time of it had the mountain range not ________ any attempts to reach the northern pass.', 'The damaged blood vessel was able to be cleared using the new treatment, which involved _______ the blockage.', 'The engine sputters to a stop as the fuel tank _______ with sludge.', 'The doctors had given him only a few months to live, but he defied their _________ by living many years beyond that prognosis.', 'If he were alive today, William Shakespeare would undoubtedly take a dim view of the way in which his work has been _____ by incompetent directors.', 'After hours of debate, the argument finally _______ when someone suggested putting a few drops of hydrochloric acid on your finger to test the pH balance.', \"Although the patient's kidney had been successfully transplanted into his sister, it soon _______ shut down due to lack of blood flow.\", \"The old woman's cataracts had now become severe enough to ________ whatever vision she had left.\", 'The Secret Service refused to disclose the exact details of the assassination plot, claiming that if it were made ________, other terrorists might plot further attacks.', \"The thick curtains _______ the flashes from the cameras as Hollywood's A-list gathers for the Oscars.\", 'The receding glacier left a landscape of ________ mountain passes behind.', \"The boulder's ________ by the falling wall completely blocked his escape.\", \"Even an amateur eye could easily notice the dagger's _______ of any number of historically important cityscapes.\", \"The victorious army's surrenders blockaded the city from outside help, effectively _______ it.\", 'The diver was so badly ________ in the wreckage that he could not be saved.', 'Nicknamed \"The Master of Disaster,\" __________ was responsible for worsening the effects of natural disasters such as floods and tidal waves.', \"Although the patient survived the procedure, it could be argued that the surgeon's haste ________ his medical career.\", 'After medical doctors failed to locate foreign material in my eye, they decided to cut my eyelid a bit more to ________ the pine needle.', 'The ________ wound slowly healed itself over several months without the aid of medical intervention.', \"The surgeon's constant pacing greatly _______ his ability to perform the delicate procedure.\", 'The constant dripping of the stalactite prevented the explorer from hearing the chatter of the tribe on the other side of the cavern, leading to their ________.', 'When a gatekeeper shut the door, it was almost as if he sat on the opposite side of a large wall separating himself from the ________ media frenzy.', \"Given the number of children still at the school during the accident, it is surprising that only two were injured when the gymnasium's ________ roof collapsed.\", \"The doctor's prediction was gloomy, but he tried to end on an ________, saying that the patient's fighting spirit might pull him through.\", 'The Senate overwhelmingly passed the controversial bill, but its ________ nature is expected to cause problems in the House.', \"The recent decision by the country's government will _______, as many fear it will engender a new wave of civil strife.\", 'The closed ________ quadrant of the circle is impossible to access.', \"The busy doctor nearly finished his ________ of the patient's medical file when the nurse called him back to the front desk.\", 'Despite the sudden sharp pain, Karima continued to try to smash her _______ finger in the car door.', \"The athlete's eyes were heavily ________ by the swelling, so we all feared the worst when he was transported to the nearest hospital.\", 'The wedding couple chose to have the church ceremony before the less traditional ________ event so that they could show their commitment to each other in front of their friends and family.', 'If the stock market were to _______, it would prove a black Friday indeed.', 'The blocked artery was a major medical ________, but, fortunately, the patient elected to have a timely surgery.', 'A clever lawyer might be able to _______ any sort of connection between the two events.', \"The wailing infant's cries alone were enough to _______ the ears of his family.\", 'The _______ of mountain roads left the sun overcast all day long.', \"The swollen Mississippi River directly _______ the campus, making it an oasis of calm from the rest of New Orleans' urban jungle.\", 'The small-town defendant was shocked by the _______ nature of the allegations against him.', 'His injury permanently ________ the flow of blood to his brain, leading to severe cognitive dissonance and paranoia.', \"The winemaker's face was already beginning to ________ after being stuck in an exploding barrel of red wine.\", 'The aggressive growth of the saguaro cactus is normally ________ by a long drought or frost.', 'The thick, dark curtains in the music room were designed to _______ the outside light.', 'The ongoing investigation was beginning to _______ other investigations.']\n"
     ]
    }
   ],
   "source": [
    "process_sentences(\"myopic\")"
   ]
  },
  {
   "cell_type": "code",
   "execution_count": null,
   "metadata": {},
   "outputs": [],
   "source": []
  }
 ],
 "metadata": {
  "kernelspec": {
   "display_name": "Python 3",
   "language": "python",
   "name": "python3"
  },
  "language_info": {
   "codemirror_mode": {
    "name": "ipython",
    "version": 3
   },
   "file_extension": ".py",
   "mimetype": "text/x-python",
   "name": "python",
   "nbconvert_exporter": "python",
   "pygments_lexer": "ipython3",
   "version": "3.8.5"
  }
 },
 "nbformat": 4,
 "nbformat_minor": 4
}
