{
 "cells": [
  {
   "cell_type": "code",
   "execution_count": 2,
   "metadata": {},
   "outputs": [],
   "source": [
    "import os"
   ]
  },
  {
   "cell_type": "code",
   "execution_count": 3,
   "metadata": {},
   "outputs": [],
   "source": [
    "COURSE = \"./6\"\n",
    "SENTENCERAWFILE = os.path.join(COURSE, \"sentence_raw\")\n",
    "SENTENCEFILE= os.path.join(COURSE, \"sentences2.txt\")\n",
    "VOCABFILE=os.path.join(COURSE, \"vocab.txt\")"
   ]
  },
  {
   "cell_type": "code",
   "execution_count": 5,
   "metadata": {},
   "outputs": [],
   "source": [
    "with open(SENTENCERAWFILE, 'r') as openfile:\n",
    "    lines = openfile.readlines()"
   ]
  },
  {
   "cell_type": "code",
   "execution_count": 6,
   "metadata": {},
   "outputs": [],
   "source": [
    "lines = [x.strip() for x in lines if x.strip()]"
   ]
  },
  {
   "cell_type": "code",
   "execution_count": 7,
   "metadata": {},
   "outputs": [],
   "source": [
    "lines = [lines[i] for i in range(1, len(lines)) if lines[i-1] == \"Put \\\"occlude\\\" in the following sentence:\"]"
   ]
  },
  {
   "cell_type": "code",
   "execution_count": 8,
   "metadata": {},
   "outputs": [],
   "source": [
    "lines = [x.split(\".\")[0] + \".\" for x in lines]"
   ]
  },
  {
   "cell_type": "code",
   "execution_count": 9,
   "metadata": {},
   "outputs": [],
   "source": [
    "lines = [x for x in lines if x[-17:]!=\"uncharacteristic.\"]"
   ]
  },
  {
   "cell_type": "code",
   "execution_count": 10,
   "metadata": {},
   "outputs": [],
   "source": [
    "lines = [x for x in lines if \"_\" in x or \"occlude\" in x]"
   ]
  },
  {
   "cell_type": "code",
   "execution_count": 11,
   "metadata": {},
   "outputs": [
    {
     "data": {
      "text/plain": [
       "[]"
      ]
     },
     "execution_count": 11,
     "metadata": {},
     "output_type": "execute_result"
    }
   ],
   "source": [
    "lines"
   ]
  },
  {
   "cell_type": "code",
   "execution_count": 13,
   "metadata": {},
   "outputs": [],
   "source": [
    "with open(\"sentences.txt\", 'a') as sentencefile:\n",
    "    for line in lines:\n",
    "        sentencefile.write(line + \"\\n\")"
   ]
  },
  {
   "cell_type": "code",
   "execution_count": 14,
   "metadata": {},
   "outputs": [
    {
     "data": {
      "text/plain": [
       "True"
      ]
     },
     "execution_count": 14,
     "metadata": {},
     "output_type": "execute_result"
    }
   ],
   "source": [
    "\"occlude\" in \"it was occluded\""
   ]
  },
  {
   "cell_type": "code",
   "execution_count": 14,
   "metadata": {},
   "outputs": [],
   "source": [
    "def process_sentences(word):\n",
    "    \n",
    "    with open(SENTENCERAWFILE, 'r') as openfile:\n",
    "        lines = openfile.readlines()\n",
    "    \n",
    "    lines = [x.strip() for x in lines if x.strip()]\n",
    "    \n",
    "    lines = [lines[i] for i in range(1, len(lines)) if \"I ask the professor for a sentence containing the word '\" + word + \"'\" in lines[i-1]]\n",
    "    \n",
    "    lines = [x.split(\".\")[0] + \".\" for x in lines]\n",
    "    \n",
    "    lines = [x for x in lines if x[-5:] not in [\"hill.\", \"ight.\"]]\n",
    "    \n",
    "    lines = [x for x in lines if (\"_\" in x or word in x)]\n",
    "    \n",
    "    lines = [x.split(\"Professor: \")[1].strip() for x in lines]\n",
    "    \n",
    "    return lines"
   ]
  },
  {
   "cell_type": "code",
   "execution_count": 15,
   "metadata": {},
   "outputs": [
    {
     "data": {
      "text/plain": [
       "['In other words, the observations of the ruins and artifacts have been greatly and repeatedly corroborated by independent experts analyzing different pieces.',\n",
       " \"The military records are not sufficient to corroborate much of Washington's early life.\",\n",
       " \"Professor Ian West, who has been teaching at Oxenford for over twenty years, corroborated Ian's statement.\",\n",
       " \"In many instances, the slave ships' logs corroborated the first evidence of the existence of the slave trade in these areas.\",\n",
       " 'One of the most useful features of the letters is that they corroborate many details from the existing documentation about Jane.',\n",
       " 'Although the information collected by the various spies may have been accurate, the government could not corroborate any of it.',\n",
       " 'Unfortunately for the men involved, there is little hard evidence to corroborate that it was the Dutch East India Company and its military who actually committed these attacks.',\n",
       " 'While the rules of probability can be used to verify a given set of numbers, they cannot be used to prove that such a set is exhaustive; that is, it cannot be used to corroborate that an exact list with all the winning numbers for.',\n",
       " 'Thus far, the information the Dali spies managed to turn up has been mainly corroborated by our own intelligence.',\n",
       " 'The system of landholding and settlement corroborate the idea that the Kingdom was an early form of feudalism.',\n",
       " \"The testimony of the two workers doesn't corroborate.\",\n",
       " 'The accounts of torture, executions and other atrocities can be used to corroborate the theory that the human race is innately disposed to cruelty.',\n",
       " 'It is known that the government could not corroborate the information it was receiving through the interrogations.',\n",
       " 'The judge decided he could not corroborate the testimony given by the eye witness and dismissed the case.',\n",
       " \"The two most important pieces of evidence that corroborate the writing are the list of daily laborers and a letter that was sent to Zahi's cousin, a renowned Egyptologist.\",\n",
       " \"While this information isn't sufficient to corroborate the story, it's at least a starting point.\",\n",
       " 'The discovery of the damaged tomb corroborates the theory that Tutenkhamun died suddenly.',\n",
       " 'The Bible, though, corroborates the use of fire in destroying Sodom and Gomorrah.',\n",
       " 'It is difficult to prove that the \"folk memory\" of ethnic groups such as the Jews is accurate and corroborated by historical facts.',\n",
       " 'As far as the exact course of events, it is impossible to corroborate these stories as no records from that period survive.',\n",
       " 'The existence of the wall would have helped to corroborate this claim.',\n",
       " 'The facts you have just presented do not conflict with the information I already have, so they merely corroborate what I already know.',\n",
       " 'No piece of evidence can ever be said to corroborate that theory more than any other.',\n",
       " 'Unfortunately none of these documents corroborate exactly what happened during the French invasion.',\n",
       " \"The pictures and texts in the longhouse's walls corroborate what the Native American bones have told the scientists.\",\n",
       " 'The tests carried out on the bones corroborate the theory that our ancestors travelled into Europe from Africa and Asia.',\n",
       " 'He states that the different programs of torture used by the inquisition only served to corroborate what they chose to believe anyway.',\n",
       " 'While you were sleeping last night, some of your most deeply held beliefs about the world were corroborated by recent scientific discoveries.',\n",
       " 'However, recent discoveries in several fields have helped corroborate the theory.',\n",
       " 'Up until today this had been corroborated by several reputable media sources.',\n",
       " 'It was difficult to prove that these findings corroborated my theory, since none of the evidence was fresh.',\n",
       " 'These results corroborate Dr.',\n",
       " 'It was necessary to find some facts, names, or other details that would help corroborate the story;.',\n",
       " 'On the other hand, the many independent records of the French Revolution corroborate each other.',\n",
       " 'Attempts to find other references to these villages corroborated his suspicions.',\n",
       " 'No, there is no report of a similar incident happening elsewhere, but I believe that such cases of violence happen all the time and are regularly corroborated in the media by famous and important people who obviously have political reasons for covering up the truth.',\n",
       " 'No other source corroborates the existence of the princess, but many claim that she is mentioned in some old ballads.',\n",
       " 'The team of doctors all agreed that the evidence corroborated this theory.',\n",
       " 'The dates of the tombs corroborate this theory.',\n",
       " 'The authorities were reluctant to investigate the corruption in the force as they felt that it would only corroborate the accusations made by Faven against Chief Superintendent Williams.',\n",
       " 'The only evidence that corroborate the existence of vampires are old superstitions and bits of folk tales.',\n",
       " \"In addition, the fact that many of these other human subspecies existed corroborate Charles Darwin's theory that modern humans are not a single species but rather a group of closely related species.\",\n",
       " 'The burial objects were so closely related to the human remains that it corroborated the identification of the bones.',\n",
       " 'Much later, though, other ancient writers corroborated the story of a great Jewish revolt against the Romans.',\n",
       " \"David Cameron added that his government needed to see such measures would 'actually corroborate with our goals and objectives'.\",\n",
       " \"No documentary evidence has been found to corroborate the theory that many American schoolchildren were educated in the 1760's in a teaching framework devised by Benjamin Franklin.\",\n",
       " 'There is no evidence to corroborate that the outer hull of the craft was damaged by an electro-magnetic pulse.',\n",
       " 'No written documents corroborate this story, but it is embodied in the songs and literature of the period.',\n",
       " \"At the end of the Second World War, the Allies used the fact that Hitler had started the war as a 'corroborate' for their claims that he had also ordered the extermination of the Jews.\",\n",
       " \"In 1674 Edmond Halley, using the latest lunar and tidal data; was able to corroborate Newton's theory.\",\n",
       " \"In light of the physical evidence provided by the scroll in John's Gospel, scholars corroborated that this passage was genuine, and not forged.\",\n",
       " 'Although the harvest was large, it was necessary to crosscheck, corroborate and verify the findings of the pilots.',\n",
       " 'They also said that the short sentences he had written down when he was nine corroborated some of the story.',\n",
       " 'The theories he wrote out on his piece of parchment corroborate my theory that he was trying to communicate with the future.',\n",
       " 'While the documents do not describe the exact details of what is to occur, they do corroborate many of the events in your visions.',\n",
       " 'The written accounts of nearly two dozen early explorers and navigators corroborate the theory that it is not only possible but likely that North America was visited by ancient mariners.',\n",
       " \"The claims by Zell and Groff are merely the latest in a long line of 'miracle cures' that were corroborated by some, yet always lacked any actual scientific proof.\",\n",
       " 'Unfortunately, the evidence gathered by the investigators did not corroborate all of his allegations.']"
      ]
     },
     "execution_count": 15,
     "metadata": {},
     "output_type": "execute_result"
    }
   ],
   "source": [
    "process_sentences(\"corroborate\")"
   ]
  },
  {
   "cell_type": "code",
   "execution_count": 16,
   "metadata": {},
   "outputs": [],
   "source": [
    "with open(VOCABFILE, 'r') as vocabfile:\n",
    "    words = [x.split(\":\")[0].strip() for x in vocabfile.readlines()]"
   ]
  },
  {
   "cell_type": "code",
   "execution_count": 17,
   "metadata": {},
   "outputs": [],
   "source": [
    "with open(SENTENCEFILE, 'w') as outfile:\n",
    "    for word in words:\n",
    "        outfile.write(\"# \" + word + \"\\n\" + \"\\n\")\n",
    "        for sentence in process_sentences(word):\n",
    "            outfile.write(sentence + \"\\n\")\n",
    "        outfile.write(\"\\n\")"
   ]
  },
  {
   "cell_type": "code",
   "execution_count": null,
   "metadata": {},
   "outputs": [],
   "source": []
  }
 ],
 "metadata": {
  "kernelspec": {
   "display_name": "Python 3",
   "language": "python",
   "name": "python3"
  },
  "language_info": {
   "codemirror_mode": {
    "name": "ipython",
    "version": 3
   },
   "file_extension": ".py",
   "mimetype": "text/x-python",
   "name": "python",
   "nbconvert_exporter": "python",
   "pygments_lexer": "ipython3",
   "version": "3.8.5"
  }
 },
 "nbformat": 4,
 "nbformat_minor": 4
}
