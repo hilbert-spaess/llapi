{
 "cells": [
  {
   "cell_type": "code",
   "execution_count": 2,
   "metadata": {},
   "outputs": [],
   "source": [
    "import os"
   ]
  },
  {
   "cell_type": "code",
   "execution_count": 3,
   "metadata": {},
   "outputs": [],
   "source": [
    "COURSE = \"./2\"\n",
    "SENTENCERAWFILE = os.path.join(COURSE, \"sentence_raw\")\n",
    "SENTENCEFILE= os.path.join(COURSE, \"sentences2.txt\")\n",
    "VOCABFILE=os.path.join(COURSE, \"vocab.txt\")"
   ]
  },
  {
   "cell_type": "code",
   "execution_count": 5,
   "metadata": {},
   "outputs": [],
   "source": [
    "with open(SENTENCERAWFILE, 'r') as openfile:\n",
    "    lines = openfile.readlines()"
   ]
  },
  {
   "cell_type": "code",
   "execution_count": 6,
   "metadata": {},
   "outputs": [],
   "source": [
    "lines = [x.strip() for x in lines if x.strip()]"
   ]
  },
  {
   "cell_type": "code",
   "execution_count": 7,
   "metadata": {},
   "outputs": [],
   "source": [
    "lines = [lines[i] for i in range(1, len(lines)) if lines[i-1] == \"Put \\\"occlude\\\" in the following sentence:\"]"
   ]
  },
  {
   "cell_type": "code",
   "execution_count": 8,
   "metadata": {},
   "outputs": [],
   "source": [
    "lines = [x.split(\".\")[0] + \".\" for x in lines]"
   ]
  },
  {
   "cell_type": "code",
   "execution_count": 9,
   "metadata": {},
   "outputs": [],
   "source": [
    "lines = [x for x in lines if x[-17:]!=\"uncharacteristic.\"]"
   ]
  },
  {
   "cell_type": "code",
   "execution_count": 10,
   "metadata": {},
   "outputs": [],
   "source": [
    "lines = [x for x in lines if \"_\" in x or \"occlude\" in x]"
   ]
  },
  {
   "cell_type": "code",
   "execution_count": 11,
   "metadata": {},
   "outputs": [
    {
     "data": {
      "text/plain": [
       "[]"
      ]
     },
     "execution_count": 11,
     "metadata": {},
     "output_type": "execute_result"
    }
   ],
   "source": [
    "lines"
   ]
  },
  {
   "cell_type": "code",
   "execution_count": 13,
   "metadata": {},
   "outputs": [],
   "source": [
    "with open(\"sentences.txt\", 'a') as sentencefile:\n",
    "    for line in lines:\n",
    "        sentencefile.write(line + \"\\n\")"
   ]
  },
  {
   "cell_type": "code",
   "execution_count": 14,
   "metadata": {},
   "outputs": [
    {
     "data": {
      "text/plain": [
       "True"
      ]
     },
     "execution_count": 14,
     "metadata": {},
     "output_type": "execute_result"
    }
   ],
   "source": [
    "\"occlude\" in \"it was occluded\""
   ]
  },
  {
   "cell_type": "code",
   "execution_count": 15,
   "metadata": {},
   "outputs": [],
   "source": [
    "def process_sentences(word):\n",
    "    \n",
    "    with open(SENTENCERAWFILE, 'r') as openfile:\n",
    "        lines = openfile.readlines()\n",
    "    \n",
    "    lines = [x.strip() for x in lines if x.strip()]\n",
    "    \n",
    "    lines = [lines[i] for i in range(1, len(lines)) if lines[i-1] == \"Put '\"+word+\"' in the following sentence:\"]\n",
    "    \n",
    "    lines = [x.split(\".\")[0] + \".\" for x in lines]\n",
    "    \n",
    "    lines = [x for x in lines if x[-5:] not in [\"hill.\", \"ight.\"]]\n",
    "    \n",
    "    lines = [x for x in lines if (\"_\" in x or word in x)]\n",
    "    \n",
    "    return lines"
   ]
  },
  {
   "cell_type": "code",
   "execution_count": 19,
   "metadata": {},
   "outputs": [
    {
     "data": {
      "text/plain": [
       "['In the late twentieth century, many fundamental problems of humanity reached their darkest nadir.',\n",
       " \"In the mid-1980's, the company hit its nadir.\",\n",
       " 'In the face of such adversity, hope was not abandoned, but it had reached its nadir.',\n",
       " 'History will likely find 2017 as a ________ in US-European relations, and it may well have been reached during the presidency of George W.',\n",
       " \"The company's fortunes reached a nadir at the end of the twentieth century when .\",\n",
       " \"The quality of the films reached a nadir with a hastily-made movie about the president's dog.\",\n",
       " 'When ____ occurs, most social schemes grind to a halt.',\n",
       " 'The president finds himself mired in the lowest approval ratings of his administration, at the nadir of his presidency.',\n",
       " 'The movement reached its intellectual nadir in the writing of Norman Vincent Peale, whose The Power of Positive Thinking became one of the best-selling books ever.',\n",
       " \"The financial collapse of 2008 was seen by some as the industry's nadir.\",\n",
       " 'After the humiliations of the 1960s and 1970s, many argue that the US has hit a nadir and is in irreversible decline.',\n",
       " 'After the humiliations of the 1960s and 1970s, many argue that the US has hit a nadir and is in irreversible decline.',\n",
       " 'Some argue that the government had reached its nadir under General Pinochet.',\n",
       " 'After the stock market crash of 1987, many people questioned whether the boom times of the 1980s had ended, reaching a low point (or nadir).',\n",
       " 'Many critics agree that the quality of games has not reached a nadir .',\n",
       " 'Just as the city was hit by a triple whammy of soaring inflation, trade tariffs, and labor strikes, it reached a nadir .',\n",
       " 'The market had reached its nadir at the turn of the century.',\n",
       " 'The surprising feature of the current system is that the quality of university education has reached a new nadir.',\n",
       " 'The country reached its nadir under the leadership of Joseph Stalin.',\n",
       " 'The quality of public discourse has reached its nadir.',\n",
       " \"The transhumanist philosophy reached its nadir with a proposal for an initiative called 'Terra Prime' which would have seen all transhumans removed from Earth.\",\n",
       " 'Regulation has definitely ________ since the crisis.',\n",
       " 'Although markets are cyclical, we may be approaching an economic __________.',\n",
       " \"Although I've done worse, overall this was one of my nadir moments.\",\n",
       " 'In the first decades of the 21st century, we have reached the nadir of the apathy and antipathy that has gripped the world.',\n",
       " 'In the first decades of the 21st century, we have reached the nadir of the apathy and antipathy that has gripped the world.',\n",
       " \"Recent improvements notwithstanding, education programs can't help but suffer in the government's current fiscal straits--especially given that the states themselves are far from out of the nadir of their own fiscal shortfalls.\",\n",
       " \"As the global financial crisis takes hold, it seems that we've reached the _______ of human achievement.\"]"
      ]
     },
     "execution_count": 19,
     "metadata": {},
     "output_type": "execute_result"
    }
   ],
   "source": [
    "process_sentences(\"nadir\")"
   ]
  },
  {
   "cell_type": "code",
   "execution_count": 20,
   "metadata": {},
   "outputs": [],
   "source": [
    "with open(VOCABFILE, 'r') as vocabfile:\n",
    "    words = [x.split(\":\")[0].strip() for x in vocabfile.readlines()]"
   ]
  },
  {
   "cell_type": "code",
   "execution_count": 21,
   "metadata": {},
   "outputs": [],
   "source": [
    "with open(SENTENCEFILE, 'a') as outfile:\n",
    "    for word in words:\n",
    "        outfile.write(\"# \" + word + \"\\n\" + \"\\n\")\n",
    "        for sentence in process_sentences(word):\n",
    "            outfile.write(sentence + \"\\n\")\n",
    "        outfile.write(\"\\n\")"
   ]
  },
  {
   "cell_type": "code",
   "execution_count": null,
   "metadata": {},
   "outputs": [],
   "source": []
  }
 ],
 "metadata": {
  "kernelspec": {
   "display_name": "Python 3",
   "language": "python",
   "name": "python3"
  },
  "language_info": {
   "codemirror_mode": {
    "name": "ipython",
    "version": 3
   },
   "file_extension": ".py",
   "mimetype": "text/x-python",
   "name": "python",
   "nbconvert_exporter": "python",
   "pygments_lexer": "ipython3",
   "version": "3.8.5"
  }
 },
 "nbformat": 4,
 "nbformat_minor": 4
}
