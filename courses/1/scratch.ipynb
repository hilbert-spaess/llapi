{
 "cells": [
  {
   "cell_type": "code",
   "execution_count": 1,
   "metadata": {},
   "outputs": [],
   "source": [
    "with open(\"./core_curriculum.txt\", 'r') as curriculumfile:\n",
    "    \n",
    "    lines = curriculumfile.readlines()"
   ]
  },
  {
   "cell_type": "code",
   "execution_count": 3,
   "metadata": {},
   "outputs": [
    {
     "name": "stdout",
     "output_type": "stream",
     "text": [
      "accurate\n",
      "exact, precise, correct\n",
      "accustomed\n",
      "in the habit of,usually\n",
      "acquire\n",
      "get come into possession of\n",
      "adjust\n",
      "alter/change to make better\n",
      "advantage\n",
      "something that makes you better / superior\n",
      "advocate\n",
      "push for something,argue for something\n",
      "annual\n",
      "happens every year\n",
      "assume\n",
      "take as true without proof\n",
      "benefit\n",
      "get something good from\n",
      "brief\n",
      "short,small,not very long\n",
      "collapse\n",
      "break down, fall in\n",
      "community\n",
      "a group of people living locally\n",
      "conflict\n",
      "a fight between two groups or individuals\n",
      "contribute\n",
      "give towards, provide, help towards an end\n",
      "core\n",
      "the center of an object\n",
      "decline\n",
      "get worse\n",
      "demonstrate\n",
      "present, show, give an exhibition\n",
      "detect\n",
      "Notice / perceive / discover\n",
      "efficient\n",
      "effective without wasting time and effort\n",
      "endure\n",
      "live through, put up with\n",
      "enhance\n",
      "make better / more attractive\n",
      "estimate\n",
      "make a rough guess / calculation\n",
      "evidence\n",
      "why you think something is true, reasoning and knowledge behind something\n",
      "evolve\n",
      "grow and develop\n",
      "expand\n",
      "extend, grow\n",
      "expose\n",
      "reveal, unmask, make accessible to the outside\n",
      "extract\n",
      "Remove, take out, pull out\n",
      "focus\n",
      "direct attention, pay attention\n",
      "function\n",
      "what something is used for\n",
      "fundamental\n",
      "essential, important, basic\n",
      "generate\n",
      "produce, bring into existence, create\n",
      "hollow\n",
      "empty, having a space inside\n",
      "hostile\n",
      "very unfriendly, aggressively opposed\n",
      "impact\n",
      "a strong effect/consequence\n",
      "implement\n",
      "apply, use, utilise, carry out\n",
      "influence\n",
      "ability to have an impact on something\n"
     ]
    }
   ],
   "source": [
    "with open(\"./vocab.txt\", 'w') as vocabfile:\n",
    "\n",
    "    for line in lines:\n",
    "\n",
    "        line = line.split(\":\")\n",
    "\n",
    "        vocabfile.write(line[0].strip()+ \":\" + line[2].strip() + \":\" + \"\\n\")\n",
    "\n",
    "        print(line[0].strip())\n",
    "        print(line[2].strip())"
   ]
  },
  {
   "cell_type": "code",
   "execution_count": null,
   "metadata": {},
   "outputs": [],
   "source": []
  }
 ],
 "metadata": {
  "kernelspec": {
   "display_name": "Python 3",
   "language": "python",
   "name": "python3"
  },
  "language_info": {
   "codemirror_mode": {
    "name": "ipython",
    "version": 3
   },
   "file_extension": ".py",
   "mimetype": "text/x-python",
   "name": "python",
   "nbconvert_exporter": "python",
   "pygments_lexer": "ipython3",
   "version": "3.8.5"
  }
 },
 "nbformat": 4,
 "nbformat_minor": 4
}
